{
 "cells": [
  {
   "cell_type": "markdown",
   "id": "cfc217a9",
   "metadata": {},
   "source": [
    "# Word Split\n",
    "Exercise File"
   ]
  },
  {
   "cell_type": "code",
   "execution_count": 1,
   "id": "f5866ea3",
   "metadata": {
    "tags": [
     "ex1_start"
    ]
   },
   "outputs": [
    {
     "name": "stderr",
     "output_type": "stream",
     "text": [
      "[nltk_data] Downloading package punkt to /root/nltk_data...\n",
      "[nltk_data]   Package punkt is already up-to-date!\n",
      "[nltk_data] Downloading package averaged_perceptron_tagger to\n",
      "[nltk_data]     /root/nltk_data...\n",
      "[nltk_data]   Package averaged_perceptron_tagger is already up-to-\n",
      "[nltk_data]       date!\n",
      "[nltk_data] Downloading package stopwords to /root/nltk_data...\n",
      "[nltk_data]   Unzipping corpora/stopwords.zip.\n"
     ]
    },
    {
     "data": {
      "text/plain": [
       "True"
      ]
     },
     "execution_count": 1,
     "metadata": {},
     "output_type": "execute_result"
    }
   ],
   "source": [
    "#Import the relevant packages to split the words \n",
    "from nltk import word_tokenize, download\n",
    "download(['punkt', 'averaged_perceptron_tagger', 'stopwords'])"
   ]
  },
  {
   "cell_type": "code",
   "execution_count": 2,
   "id": "6ea25b78",
   "metadata": {},
   "outputs": [],
   "source": [
    "#Use the below sentence to get the output. \n",
    "Sentence = 'Natural Langauge processing is one of the most important concepts in the industry.'"
   ]
  },
  {
   "cell_type": "code",
   "execution_count": 5,
   "id": "20a99e35",
   "metadata": {},
   "outputs": [],
   "source": [
    "#Create the function which will detect the boundaries of the sentences\n",
    "def get_tokens(text):\n",
    "    words = word_tokenize(Sentence)\n",
    "    return words"
   ]
  },
  {
   "cell_type": "code",
   "execution_count": 6,
   "id": "34099572",
   "metadata": {},
   "outputs": [
    {
     "name": "stdout",
     "output_type": "stream",
     "text": [
      "['Natural', 'Langauge', 'processing', 'is', 'one', 'of', 'the', 'most', 'important', 'concepts', 'in', 'the', 'industry', '.']\n"
     ]
    }
   ],
   "source": [
    "#Call the function to get the output\n",
    "output = get_tokens(Sentence)\n",
    "print(output)"
   ]
  },
  {
   "cell_type": "code",
   "execution_count": null,
   "id": "c8d8b08b",
   "metadata": {
    "tags": [
     "ex1_end"
    ]
   },
   "outputs": [],
   "source": []
  }
 ],
 "metadata": {
  "celltoolbar": "Tags",
  "kernelspec": {
   "display_name": "Python 3 (ipykernel)",
   "language": "python",
   "name": "python3"
  },
  "language_info": {
   "codemirror_mode": {
    "name": "ipython",
    "version": 3
   },
   "file_extension": ".py",
   "mimetype": "text/x-python",
   "name": "python",
   "nbconvert_exporter": "python",
   "pygments_lexer": "ipython3",
   "version": "3.9.13"
  }
 },
 "nbformat": 4,
 "nbformat_minor": 5
}
