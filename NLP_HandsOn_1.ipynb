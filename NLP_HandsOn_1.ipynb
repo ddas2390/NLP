{
 "cells": [
  {
   "cell_type": "markdown",
   "id": "e8fb0a23",
   "metadata": {},
   "source": [
    "# NLP Handson - Basic Text Analytics\n",
    "\n",
    "Solution File"
   ]
  },
  {
   "cell_type": "markdown",
   "id": "8133eaeb",
   "metadata": {},
   "source": [
    "# Exercise 1"
   ]
  },
  {
   "cell_type": "markdown",
   "id": "ba778f6b",
   "metadata": {},
   "source": [
    "Create a sentence mentioned below and find the word 'programming' in the sentence using the user defined function"
   ]
  },
  {
   "cell_type": "markdown",
   "id": "5f1c0ef0",
   "metadata": {},
   "source": [
    "Python is so powerful programming language and it is the future of the computer science"
   ]
  },
  {
   "cell_type": "code",
   "execution_count": 4,
   "id": "e6c57f48",
   "metadata": {},
   "outputs": [],
   "source": [
    "import nltk"
   ]
  },
  {
   "cell_type": "code",
   "execution_count": 5,
   "id": "5094c521",
   "metadata": {
    "tags": [
     "ex1_start",
     "ex2_start",
     "ex3_start",
     "ex4_start"
    ]
   },
   "outputs": [],
   "source": [
    "sentence = 'Python is so powerful programming language and it is the future of the computer science'"
   ]
  },
  {
   "cell_type": "code",
   "execution_count": 6,
   "id": "354f49e0",
   "metadata": {},
   "outputs": [
    {
     "data": {
      "text/plain": [
       "'Python is so powerful programming language and it is the future of the computer science'"
      ]
     },
     "execution_count": 6,
     "metadata": {},
     "output_type": "execute_result"
    }
   ],
   "source": [
    "sentence"
   ]
  },
  {
   "cell_type": "code",
   "execution_count": 7,
   "id": "1f973654",
   "metadata": {},
   "outputs": [],
   "source": [
    "def find_word(word, sentence):\n",
    "    return word in sentence"
   ]
  },
  {
   "cell_type": "code",
   "execution_count": 8,
   "id": "380ab197",
   "metadata": {},
   "outputs": [
    {
     "data": {
      "text/plain": [
       "True"
      ]
     },
     "execution_count": 8,
     "metadata": {},
     "output_type": "execute_result"
    }
   ],
   "source": [
    "#Call the function\n",
    "find_word('programming', sentence)"
   ]
  },
  {
   "cell_type": "markdown",
   "id": "38c4d698",
   "metadata": {
    "tags": [
     "ex1_end"
    ]
   },
   "source": [
    "# Exercise 2"
   ]
  },
  {
   "cell_type": "markdown",
   "id": "7992d5b6",
   "metadata": {},
   "source": [
    "Create a sentence mentioned below and find the index of the word 'Python' in the sentence using the user defined function"
   ]
  },
  {
   "cell_type": "markdown",
   "id": "88324e04",
   "metadata": {},
   "source": [
    "Python is so powerful programming language and it is the future of the computer science"
   ]
  },
  {
   "cell_type": "code",
   "execution_count": 9,
   "id": "bcba3ab1",
   "metadata": {},
   "outputs": [],
   "source": [
    "def get_index(word,text):\n",
    "    return text.index(word)"
   ]
  },
  {
   "cell_type": "code",
   "execution_count": 10,
   "id": "1be58049",
   "metadata": {},
   "outputs": [
    {
     "data": {
      "text/plain": [
       "0"
      ]
     },
     "execution_count": 10,
     "metadata": {},
     "output_type": "execute_result"
    }
   ],
   "source": [
    "#Call the function\n",
    "get_index('Python', sentence)"
   ]
  },
  {
   "cell_type": "markdown",
   "id": "b1ff1ed3",
   "metadata": {
    "tags": [
     "ex2_end"
    ]
   },
   "source": [
    "end of exercise"
   ]
  },
  {
   "cell_type": "markdown",
   "id": "07b5d2ef",
   "metadata": {},
   "source": [
    "# Exercise 3"
   ]
  },
  {
   "cell_type": "markdown",
   "id": "9865a7ef",
   "metadata": {},
   "source": [
    "Create a sentence mentioned below and find the all the even index words in the sentence using the user defined function"
   ]
  },
  {
   "cell_type": "markdown",
   "id": "2c546b05",
   "metadata": {},
   "source": [
    "Python is so powerful programming language and it is the future of the computer science"
   ]
  },
  {
   "cell_type": "code",
   "execution_count": 15,
   "id": "26a3144b",
   "metadata": {},
   "outputs": [],
   "source": [
    "def get_even_position_words(text):\n",
    "    words = text.split()\n",
    "    return [words[i] for i in range(len(words)) if i%2 == 0]"
   ]
  },
  {
   "cell_type": "code",
   "execution_count": 18,
   "id": "480b3608",
   "metadata": {},
   "outputs": [],
   "source": [
    "sentence = 'Python is so powerful programming language and it is the future of the computer science'"
   ]
  },
  {
   "cell_type": "code",
   "execution_count": 19,
   "id": "3496c9c6",
   "metadata": {},
   "outputs": [
    {
     "data": {
      "text/plain": [
       "['Python', 'so', 'programming', 'and', 'is', 'future', 'the', 'science']"
      ]
     },
     "execution_count": 19,
     "metadata": {},
     "output_type": "execute_result"
    }
   ],
   "source": [
    "#Call the function\n",
    "get_even_position_words(sentence)"
   ]
  },
  {
   "cell_type": "markdown",
   "id": "464eaa9f",
   "metadata": {
    "tags": [
     "ex3_end"
    ]
   },
   "source": [
    "end of exercise"
   ]
  },
  {
   "cell_type": "markdown",
   "id": "113d2ed0",
   "metadata": {},
   "source": [
    "# Exercise 4"
   ]
  },
  {
   "cell_type": "markdown",
   "id": "f8c98773",
   "metadata": {},
   "source": [
    "Create a sentence mentioned below and and reverse the entire sentence using the user defined function"
   ]
  },
  {
   "cell_type": "markdown",
   "id": "9e1d0f26",
   "metadata": {},
   "source": [
    "Python is so powerful programming language and it is the future of the computer science"
   ]
  },
  {
   "cell_type": "code",
   "execution_count": 22,
   "id": "5925fa7e",
   "metadata": {},
   "outputs": [],
   "source": [
    "def get_reverse(text):\n",
    "    return text[::-1]"
   ]
  },
  {
   "cell_type": "code",
   "execution_count": 23,
   "id": "7bd48a58",
   "metadata": {},
   "outputs": [],
   "source": [
    "sentence = 'Python is so powerful programming language and it is the future of the computer science'"
   ]
  },
  {
   "cell_type": "code",
   "execution_count": 24,
   "id": "5cce88b5",
   "metadata": {},
   "outputs": [
    {
     "data": {
      "text/plain": [
       "'ecneics retupmoc eht fo erutuf eht si ti dna egaugnal gnimmargorp lufrewop os si nohtyP'"
      ]
     },
     "execution_count": 24,
     "metadata": {},
     "output_type": "execute_result"
    }
   ],
   "source": [
    "#Call the function\n",
    "get_reverse(sentence)"
   ]
  },
  {
   "cell_type": "markdown",
   "id": "d980a87b",
   "metadata": {
    "tags": [
     "ex4_end"
    ]
   },
   "source": [
    "End of exercise"
   ]
  }
 ],
 "metadata": {
  "celltoolbar": "Tags",
  "kernelspec": {
   "display_name": "Python 3 (ipykernel)",
   "language": "python",
   "name": "python3"
  },
  "language_info": {
   "codemirror_mode": {
    "name": "ipython",
    "version": 3
   },
   "file_extension": ".py",
   "mimetype": "text/x-python",
   "name": "python",
   "nbconvert_exporter": "python",
   "pygments_lexer": "ipython3",
   "version": "3.10.9"
  }
 },
 "nbformat": 4,
 "nbformat_minor": 5
}
