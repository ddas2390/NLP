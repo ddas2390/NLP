{
 "cells": [
  {
   "cell_type": "code",
   "execution_count": 1,
   "id": "9fa884d4",
   "metadata": {},
   "outputs": [
    {
     "name": "stdout",
     "output_type": "stream",
     "text": [
      "Collecting textblob\n",
      "  Downloading textblob-0.18.0.post0-py3-none-any.whl (626 kB)\n",
      "\u001b[2K     \u001b[90m━━━━━━━━━━━━━━━━━━━━━━━━━━━━━━━━━━━━━━━\u001b[0m \u001b[32m626.3/626.3 kB\u001b[0m \u001b[31m3.4 MB/s\u001b[0m eta \u001b[36m0:00:00\u001b[0m00:01\u001b[0m00:01\u001b[0m\n",
      "\u001b[?25hCollecting nltk>=3.8\n",
      "  Downloading nltk-3.9.1-py3-none-any.whl (1.5 MB)\n",
      "\u001b[2K     \u001b[90m━━━━━━━━━━━━━━━━━━━━━━━━━━━━━━━━━━━━━━━━\u001b[0m \u001b[32m1.5/1.5 MB\u001b[0m \u001b[31m3.7 MB/s\u001b[0m eta \u001b[36m0:00:00\u001b[0m00:01\u001b[0m00:01\u001b[0m\n",
      "\u001b[?25hRequirement already satisfied: joblib in /Users/mymac/anaconda3/lib/python3.10/site-packages (from nltk>=3.8->textblob) (1.1.1)\n",
      "Requirement already satisfied: click in /Users/mymac/anaconda3/lib/python3.10/site-packages (from nltk>=3.8->textblob) (8.0.4)\n",
      "Requirement already satisfied: tqdm in /Users/mymac/anaconda3/lib/python3.10/site-packages (from nltk>=3.8->textblob) (4.64.1)\n",
      "Requirement already satisfied: regex>=2021.8.3 in /Users/mymac/anaconda3/lib/python3.10/site-packages (from nltk>=3.8->textblob) (2022.7.9)\n",
      "Installing collected packages: nltk, textblob\n",
      "  Attempting uninstall: nltk\n",
      "    Found existing installation: nltk 3.7\n",
      "    Uninstalling nltk-3.7:\n",
      "      Successfully uninstalled nltk-3.7\n",
      "Successfully installed nltk-3.9.1 textblob-0.18.0.post0\n"
     ]
    }
   ],
   "source": [
    "#!pip install textblob"
   ]
  },
  {
   "cell_type": "code",
   "execution_count": 38,
   "id": "4b5ed015",
   "metadata": {},
   "outputs": [
    {
     "name": "stderr",
     "output_type": "stream",
     "text": [
      "[nltk_data] Downloading package punkt_tab to /Users/mymac/nltk_data...\n",
      "[nltk_data]   Package punkt_tab is already up-to-date!\n",
      "[nltk_data] Downloading package averaged_perceptron_tagger_eng to\n",
      "[nltk_data]     /Users/mymac/nltk_data...\n",
      "[nltk_data]   Unzipping taggers/averaged_perceptron_tagger_eng.zip.\n"
     ]
    },
    {
     "data": {
      "text/plain": [
       "True"
      ]
     },
     "execution_count": 38,
     "metadata": {},
     "output_type": "execute_result"
    }
   ],
   "source": [
    "import nltk\n",
    "nltk.download('punkt_tab')\n",
    "nltk.download('averaged_perceptron_tagger_eng')"
   ]
  },
  {
   "cell_type": "code",
   "execution_count": 15,
   "id": "6e0a93d9",
   "metadata": {},
   "outputs": [],
   "source": [
    "from textblob import TextBlob\n",
    "mystr = \"\"\"I'm lost in the middle of my birthday. \n",
    "I want my friends, their touch, with the earth’s last love. \n",
    "I will take life’s final offering, I will take the human’s last blessing. \n",
    "Today my sack is empty. \n",
    "I have given completely whatever I had to give. \n",
    "In return, if I receive anything—some love, some forgiveness—then I will take it with me when I step on the boat that crosses to the festival of the wordless end.\n",
    "~ Rabindranath Tagore\"\"\"\n",
    "blob = TextBlob(mystr)"
   ]
  },
  {
   "cell_type": "code",
   "execution_count": 16,
   "id": "1124afa5",
   "metadata": {},
   "outputs": [
    {
     "data": {
      "text/plain": [
       "textblob.blob.TextBlob"
      ]
     },
     "execution_count": 16,
     "metadata": {},
     "output_type": "execute_result"
    }
   ],
   "source": [
    "type(blob)"
   ]
  },
  {
   "cell_type": "code",
   "execution_count": 17,
   "id": "11a11dfa",
   "metadata": {},
   "outputs": [
    {
     "data": {
      "text/plain": [
       "TextBlob(\"I'm lost in the middle of my birthday. \n",
       "I want my friends, their touch, with the earth’s last love. \n",
       "I will take life’s final offering, I will take the human’s last blessing. \n",
       "Today my sack is empty. \n",
       "I have given completely whatever I had to give. \n",
       "In return, if I receive anything—some love, some forgiveness—then I will take it with me when I step on the boat that crosses to the festival of the wordless end.\n",
       "~ Rabindranath Tagore\")"
      ]
     },
     "execution_count": 17,
     "metadata": {},
     "output_type": "execute_result"
    }
   ],
   "source": [
    "blob"
   ]
  },
  {
   "cell_type": "code",
   "execution_count": 24,
   "id": "22d7dd0f",
   "metadata": {},
   "outputs": [
    {
     "data": {
      "text/plain": [
       "WordList(['I', \"'m\", 'lost', 'in', 'the', 'middle', 'of', 'my', 'birthday', 'I', 'want', 'my', 'friends', 'their', 'touch', 'with', 'the', 'earth', '’', 's', 'last', 'love', 'I', 'will', 'take', 'life', '’', 's', 'final', 'offering', 'I', 'will', 'take', 'the', 'human', '’', 's', 'last', 'blessing', 'Today', 'my', 'sack', 'is', 'empty', 'I', 'have', 'given', 'completely', 'whatever', 'I', 'had', 'to', 'give', 'In', 'return', 'if', 'I', 'receive', 'anything—some', 'love', 'some', 'forgiveness—then', 'I', 'will', 'take', 'it', 'with', 'me', 'when', 'I', 'step', 'on', 'the', 'boat', 'that', 'crosses', 'to', 'the', 'festival', 'of', 'the', 'wordless', 'end', 'Rabindranath', 'Tagore'])"
      ]
     },
     "execution_count": 24,
     "metadata": {},
     "output_type": "execute_result"
    }
   ],
   "source": [
    "blob.words"
   ]
  },
  {
   "cell_type": "code",
   "execution_count": 25,
   "id": "c7c3720e",
   "metadata": {},
   "outputs": [
    {
     "data": {
      "text/plain": [
       "[Sentence(\"I'm lost in the middle of my birthday.\"),\n",
       " Sentence(\"I want my friends, their touch, with the earth’s last love.\"),\n",
       " Sentence(\"I will take life’s final offering, I will take the human’s last blessing.\"),\n",
       " Sentence(\"Today my sack is empty.\"),\n",
       " Sentence(\"I have given completely whatever I had to give.\"),\n",
       " Sentence(\"In return, if I receive anything—some love, some forgiveness—then I will take it with me when I step on the boat that crosses to the festival of the wordless end.\"),\n",
       " Sentence(\"~ Rabindranath Tagore\")]"
      ]
     },
     "execution_count": 25,
     "metadata": {},
     "output_type": "execute_result"
    }
   ],
   "source": [
    "blob.sentences"
   ]
  },
  {
   "cell_type": "code",
   "execution_count": 26,
   "id": "4125a7a7",
   "metadata": {},
   "outputs": [
    {
     "name": "stdout",
     "output_type": "stream",
     "text": [
      "['I', \"'m\", 'lost', 'in', 'the', 'middle', 'of', 'my', 'birthday']\n",
      "['I', 'want', 'my', 'friends', 'their', 'touch', 'with', 'the', 'earth', '’', 's', 'last', 'love']\n",
      "['I', 'will', 'take', 'life', '’', 's', 'final', 'offering', 'I', 'will', 'take', 'the', 'human', '’', 's', 'last', 'blessing']\n",
      "['Today', 'my', 'sack', 'is', 'empty']\n",
      "['I', 'have', 'given', 'completely', 'whatever', 'I', 'had', 'to', 'give']\n",
      "['In', 'return', 'if', 'I', 'receive', 'anything—some', 'love', 'some', 'forgiveness—then', 'I', 'will', 'take', 'it', 'with', 'me', 'when', 'I', 'step', 'on', 'the', 'boat', 'that', 'crosses', 'to', 'the', 'festival', 'of', 'the', 'wordless', 'end']\n",
      "['Rabindranath', 'Tagore']\n"
     ]
    }
   ],
   "source": [
    "for word_tokens in blob.sentences:\n",
    "    print(word_tokens.words)"
   ]
  },
  {
   "cell_type": "code",
   "execution_count": 27,
   "id": "076577d0",
   "metadata": {},
   "outputs": [
    {
     "name": "stdout",
     "output_type": "stream",
     "text": [
      "['I', \"'m\"]\n",
      "[\"'m\", 'lost']\n",
      "['lost', 'in']\n",
      "['in', 'the']\n",
      "['the', 'middle']\n",
      "['middle', 'of']\n",
      "['of', 'my']\n",
      "['my', 'birthday']\n",
      "['birthday', 'I']\n",
      "['I', 'want']\n",
      "['want', 'my']\n",
      "['my', 'friends']\n",
      "['friends', 'their']\n",
      "['their', 'touch']\n",
      "['touch', 'with']\n",
      "['with', 'the']\n",
      "['the', 'earth']\n",
      "['earth', '’']\n",
      "['’', 's']\n",
      "['s', 'last']\n",
      "['last', 'love']\n",
      "['love', 'I']\n",
      "['I', 'will']\n",
      "['will', 'take']\n",
      "['take', 'life']\n",
      "['life', '’']\n",
      "['’', 's']\n",
      "['s', 'final']\n",
      "['final', 'offering']\n",
      "['offering', 'I']\n",
      "['I', 'will']\n",
      "['will', 'take']\n",
      "['take', 'the']\n",
      "['the', 'human']\n",
      "['human', '’']\n",
      "['’', 's']\n",
      "['s', 'last']\n",
      "['last', 'blessing']\n",
      "['blessing', 'Today']\n",
      "['Today', 'my']\n",
      "['my', 'sack']\n",
      "['sack', 'is']\n",
      "['is', 'empty']\n",
      "['empty', 'I']\n",
      "['I', 'have']\n",
      "['have', 'given']\n",
      "['given', 'completely']\n",
      "['completely', 'whatever']\n",
      "['whatever', 'I']\n",
      "['I', 'had']\n",
      "['had', 'to']\n",
      "['to', 'give']\n",
      "['give', 'In']\n",
      "['In', 'return']\n",
      "['return', 'if']\n",
      "['if', 'I']\n",
      "['I', 'receive']\n",
      "['receive', 'anything—some']\n",
      "['anything—some', 'love']\n",
      "['love', 'some']\n",
      "['some', 'forgiveness—then']\n",
      "['forgiveness—then', 'I']\n",
      "['I', 'will']\n",
      "['will', 'take']\n",
      "['take', 'it']\n",
      "['it', 'with']\n",
      "['with', 'me']\n",
      "['me', 'when']\n",
      "['when', 'I']\n",
      "['I', 'step']\n",
      "['step', 'on']\n",
      "['on', 'the']\n",
      "['the', 'boat']\n",
      "['boat', 'that']\n",
      "['that', 'crosses']\n",
      "['crosses', 'to']\n",
      "['to', 'the']\n",
      "['the', 'festival']\n",
      "['festival', 'of']\n",
      "['of', 'the']\n",
      "['the', 'wordless']\n",
      "['wordless', 'end']\n",
      "['end', 'Rabindranath']\n",
      "['Rabindranath', 'Tagore']\n"
     ]
    }
   ],
   "source": [
    "for bigrams in blob.ngrams(2):\n",
    "    print(bigrams)"
   ]
  },
  {
   "cell_type": "code",
   "execution_count": 28,
   "id": "814be9c0",
   "metadata": {},
   "outputs": [
    {
     "name": "stdout",
     "output_type": "stream",
     "text": [
      "['I', \"'m\", 'lost', 'in']\n",
      "[\"'m\", 'lost', 'in', 'the']\n",
      "['lost', 'in', 'the', 'middle']\n",
      "['in', 'the', 'middle', 'of']\n",
      "['the', 'middle', 'of', 'my']\n",
      "['middle', 'of', 'my', 'birthday']\n",
      "['of', 'my', 'birthday', 'I']\n",
      "['my', 'birthday', 'I', 'want']\n",
      "['birthday', 'I', 'want', 'my']\n",
      "['I', 'want', 'my', 'friends']\n",
      "['want', 'my', 'friends', 'their']\n",
      "['my', 'friends', 'their', 'touch']\n",
      "['friends', 'their', 'touch', 'with']\n",
      "['their', 'touch', 'with', 'the']\n",
      "['touch', 'with', 'the', 'earth']\n",
      "['with', 'the', 'earth', '’']\n",
      "['the', 'earth', '’', 's']\n",
      "['earth', '’', 's', 'last']\n",
      "['’', 's', 'last', 'love']\n",
      "['s', 'last', 'love', 'I']\n",
      "['last', 'love', 'I', 'will']\n",
      "['love', 'I', 'will', 'take']\n",
      "['I', 'will', 'take', 'life']\n",
      "['will', 'take', 'life', '’']\n",
      "['take', 'life', '’', 's']\n",
      "['life', '’', 's', 'final']\n",
      "['’', 's', 'final', 'offering']\n",
      "['s', 'final', 'offering', 'I']\n",
      "['final', 'offering', 'I', 'will']\n",
      "['offering', 'I', 'will', 'take']\n",
      "['I', 'will', 'take', 'the']\n",
      "['will', 'take', 'the', 'human']\n",
      "['take', 'the', 'human', '’']\n",
      "['the', 'human', '’', 's']\n",
      "['human', '’', 's', 'last']\n",
      "['’', 's', 'last', 'blessing']\n",
      "['s', 'last', 'blessing', 'Today']\n",
      "['last', 'blessing', 'Today', 'my']\n",
      "['blessing', 'Today', 'my', 'sack']\n",
      "['Today', 'my', 'sack', 'is']\n",
      "['my', 'sack', 'is', 'empty']\n",
      "['sack', 'is', 'empty', 'I']\n",
      "['is', 'empty', 'I', 'have']\n",
      "['empty', 'I', 'have', 'given']\n",
      "['I', 'have', 'given', 'completely']\n",
      "['have', 'given', 'completely', 'whatever']\n",
      "['given', 'completely', 'whatever', 'I']\n",
      "['completely', 'whatever', 'I', 'had']\n",
      "['whatever', 'I', 'had', 'to']\n",
      "['I', 'had', 'to', 'give']\n",
      "['had', 'to', 'give', 'In']\n",
      "['to', 'give', 'In', 'return']\n",
      "['give', 'In', 'return', 'if']\n",
      "['In', 'return', 'if', 'I']\n",
      "['return', 'if', 'I', 'receive']\n",
      "['if', 'I', 'receive', 'anything—some']\n",
      "['I', 'receive', 'anything—some', 'love']\n",
      "['receive', 'anything—some', 'love', 'some']\n",
      "['anything—some', 'love', 'some', 'forgiveness—then']\n",
      "['love', 'some', 'forgiveness—then', 'I']\n",
      "['some', 'forgiveness—then', 'I', 'will']\n",
      "['forgiveness—then', 'I', 'will', 'take']\n",
      "['I', 'will', 'take', 'it']\n",
      "['will', 'take', 'it', 'with']\n",
      "['take', 'it', 'with', 'me']\n",
      "['it', 'with', 'me', 'when']\n",
      "['with', 'me', 'when', 'I']\n",
      "['me', 'when', 'I', 'step']\n",
      "['when', 'I', 'step', 'on']\n",
      "['I', 'step', 'on', 'the']\n",
      "['step', 'on', 'the', 'boat']\n",
      "['on', 'the', 'boat', 'that']\n",
      "['the', 'boat', 'that', 'crosses']\n",
      "['boat', 'that', 'crosses', 'to']\n",
      "['that', 'crosses', 'to', 'the']\n",
      "['crosses', 'to', 'the', 'festival']\n",
      "['to', 'the', 'festival', 'of']\n",
      "['the', 'festival', 'of', 'the']\n",
      "['festival', 'of', 'the', 'wordless']\n",
      "['of', 'the', 'wordless', 'end']\n",
      "['the', 'wordless', 'end', 'Rabindranath']\n",
      "['wordless', 'end', 'Rabindranath', 'Tagore']\n"
     ]
    }
   ],
   "source": [
    "for ngrams in blob.ngrams(4):\n",
    "    print(ngrams)"
   ]
  },
  {
   "cell_type": "code",
   "execution_count": 36,
   "id": "e49dd4b9",
   "metadata": {},
   "outputs": [],
   "source": [
    "#!pip install googletrans==4.0.0-rc1"
   ]
  },
  {
   "cell_type": "code",
   "execution_count": 34,
   "id": "e36a3c68",
   "metadata": {},
   "outputs": [],
   "source": [
    "#print(blob.detect_language())"
   ]
  },
  {
   "cell_type": "code",
   "execution_count": 35,
   "id": "ce2dfff9",
   "metadata": {},
   "outputs": [],
   "source": [
    "#print(blob.translate(to='es'))"
   ]
  },
  {
   "cell_type": "code",
   "execution_count": 39,
   "id": "65aa353e",
   "metadata": {},
   "outputs": [
    {
     "name": "stdout",
     "output_type": "stream",
     "text": [
      "[('I', 'PRP'), (\"'m\", 'VBP'), ('lost', 'VBN'), ('in', 'IN'), ('the', 'DT'), ('middle', 'NN'), ('of', 'IN'), ('my', 'PRP$'), ('birthday', 'NN'), ('I', 'PRP'), ('want', 'VBP'), ('my', 'PRP$'), ('friends', 'NNS'), ('their', 'PRP$'), ('touch', 'NN'), ('with', 'IN'), ('the', 'DT'), ('earth', 'NN'), ('’', 'NNP'), ('s', 'NN'), ('last', 'JJ'), ('love', 'NN'), ('I', 'PRP'), ('will', 'MD'), ('take', 'VB'), ('life', 'NN'), ('’', 'NNP'), ('s', 'VBD'), ('final', 'JJ'), ('offering', 'NN'), ('I', 'PRP'), ('will', 'MD'), ('take', 'VB'), ('the', 'DT'), ('human', 'JJ'), ('’', 'NNP'), ('s', 'NN'), ('last', 'JJ'), ('blessing', 'NN'), ('Today', 'NN'), ('my', 'PRP$'), ('sack', 'NN'), ('is', 'VBZ'), ('empty', 'JJ'), ('I', 'PRP'), ('have', 'VBP'), ('given', 'VBN'), ('completely', 'RB'), ('whatever', 'WDT'), ('I', 'PRP'), ('had', 'VBD'), ('to', 'TO'), ('give', 'VB'), ('In', 'IN'), ('return', 'NN'), ('if', 'IN'), ('I', 'PRP'), ('receive', 'VBP'), ('anything—some', 'JJ'), ('love', 'NN'), ('some', 'DT'), ('forgiveness—then', 'NN'), ('I', 'PRP'), ('will', 'MD'), ('take', 'VB'), ('it', 'PRP'), ('with', 'IN'), ('me', 'PRP'), ('when', 'WRB'), ('I', 'PRP'), ('step', 'VBP'), ('on', 'IN'), ('the', 'DT'), ('boat', 'NN'), ('that', 'WDT'), ('crosses', 'VBZ'), ('to', 'TO'), ('the', 'DT'), ('festival', 'NN'), ('of', 'IN'), ('the', 'DT'), ('wordless', 'JJ'), ('end', 'NN'), ('~', 'JJ'), ('Rabindranath', 'NNP'), ('Tagore', 'NN')]\n"
     ]
    }
   ],
   "source": [
    "print(blob.pos_tags)"
   ]
  },
  {
   "cell_type": "code",
   "execution_count": 42,
   "id": "6474c7a1",
   "metadata": {},
   "outputs": [
    {
     "name": "stderr",
     "output_type": "stream",
     "text": [
      "[nltk_data] Downloading package brown to /Users/mymac/nltk_data...\n",
      "[nltk_data]   Unzipping corpora/brown.zip.\n"
     ]
    },
    {
     "data": {
      "text/plain": [
       "True"
      ]
     },
     "execution_count": 42,
     "metadata": {},
     "output_type": "execute_result"
    }
   ],
   "source": [
    "nltk.download('brown')"
   ]
  },
  {
   "cell_type": "code",
   "execution_count": 43,
   "id": "561a527a",
   "metadata": {},
   "outputs": [
    {
     "name": "stdout",
     "output_type": "stream",
     "text": [
      "earth ’ s\n",
      "life ’ s\n",
      "final offering\n",
      "human ’ s\n",
      "wordless end\n",
      "rabindranath tagore\n"
     ]
    }
   ],
   "source": [
    "for np in blob.noun_phrases:\n",
    "    print (np)"
   ]
  },
  {
   "cell_type": "code",
   "execution_count": 48,
   "id": "0e5b9405",
   "metadata": {},
   "outputs": [],
   "source": [
    "#ex = Word('running')\n",
    "#ex.lemmatize('v')"
   ]
  },
  {
   "cell_type": "code",
   "execution_count": null,
   "id": "7bb4d9b2",
   "metadata": {},
   "outputs": [],
   "source": []
  }
 ],
 "metadata": {
  "kernelspec": {
   "display_name": "Python 3 (ipykernel)",
   "language": "python",
   "name": "python3"
  },
  "language_info": {
   "codemirror_mode": {
    "name": "ipython",
    "version": 3
   },
   "file_extension": ".py",
   "mimetype": "text/x-python",
   "name": "python",
   "nbconvert_exporter": "python",
   "pygments_lexer": "ipython3",
   "version": "3.10.9"
  }
 },
 "nbformat": 4,
 "nbformat_minor": 5
}
