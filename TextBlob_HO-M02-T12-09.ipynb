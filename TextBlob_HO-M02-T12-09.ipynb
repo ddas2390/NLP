{
 "cells": [
  {
   "cell_type": "markdown",
   "id": "33806c5b",
   "metadata": {},
   "source": [
    "# Pluralize the word"
   ]
  },
  {
   "cell_type": "code",
   "execution_count": 3,
   "id": "ae710726",
   "metadata": {
    "tags": [
     "ex1_start"
    ]
   },
   "outputs": [],
   "source": [
    "#Import the relevant packages\n",
    "from textblob import TextBlob, Word\n",
    "word = 'Car'"
   ]
  },
  {
   "cell_type": "code",
   "execution_count": 4,
   "id": "1ff80bbd",
   "metadata": {},
   "outputs": [],
   "source": [
    "#Create the function to pluralize the word\n",
    "def pluralize(text):\n",
    "    s = Word(word)\n",
    "    return s.pluralize()"
   ]
  },
  {
   "cell_type": "code",
   "execution_count": 5,
   "id": "0c13fef0",
   "metadata": {},
   "outputs": [
    {
     "name": "stdout",
     "output_type": "stream",
     "text": [
      "Cars\n"
     ]
    }
   ],
   "source": [
    "#call the function\n",
    "output = pluralize('Car')\n",
    "print(output)"
   ]
  },
  {
   "cell_type": "code",
   "execution_count": 6,
   "id": "cb732b40",
   "metadata": {
    "tags": [
     "ex1_end"
    ]
   },
   "outputs": [],
   "source": [
    "#Create the function to normalize the text\n",
    "def singularize(word):\n",
    "    s = Word(word)\n",
    "    return s.singularize()"
   ]
  },
  {
   "cell_type": "code",
   "execution_count": 7,
   "id": "16b6ae7b",
   "metadata": {},
   "outputs": [
    {
     "name": "stdout",
     "output_type": "stream",
     "text": [
      "Car\n"
     ]
    }
   ],
   "source": [
    "#call the function\n",
    "output = singularize('Cars')\n",
    "print(output)"
   ]
  },
  {
   "cell_type": "code",
   "execution_count": null,
   "id": "d70e5e03",
   "metadata": {},
   "outputs": [],
   "source": []
  }
 ],
 "metadata": {
  "celltoolbar": "Tags",
  "kernelspec": {
   "display_name": "Python 3 (ipykernel)",
   "language": "python",
   "name": "python3"
  },
  "language_info": {
   "codemirror_mode": {
    "name": "ipython",
    "version": 3
   },
   "file_extension": ".py",
   "mimetype": "text/x-python",
   "name": "python",
   "nbconvert_exporter": "python",
   "pygments_lexer": "ipython3",
   "version": "3.10.9"
  }
 },
 "nbformat": 4,
 "nbformat_minor": 5
}
