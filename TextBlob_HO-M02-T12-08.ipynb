{
 "cells": [
  {
   "cell_type": "markdown",
   "id": "33806c5b",
   "metadata": {},
   "source": [
    "# Get the Tags"
   ]
  },
  {
   "cell_type": "code",
   "execution_count": 1,
   "id": "ae710726",
   "metadata": {
    "tags": [
     "ex1_start"
    ]
   },
   "outputs": [],
   "source": [
    "from textblob import TextBlob\n",
    "string  = \"\"\"One of the best programming languages is Python\n",
    "it is very simple for us to learn and it is most powerful one\"\"\""
   ]
  },
  {
   "cell_type": "code",
   "execution_count": 2,
   "id": "1ff80bbd",
   "metadata": {},
   "outputs": [],
   "source": [
    "#Create the function\n",
    "def test_tags(string):\n",
    "    blob = TextBlob(string)\n",
    "    return blob.tags"
   ]
  },
  {
   "cell_type": "code",
   "execution_count": 3,
   "id": "0c13fef0",
   "metadata": {},
   "outputs": [
    {
     "name": "stdout",
     "output_type": "stream",
     "text": [
      "[('One', 'CD'), ('of', 'IN'), ('the', 'DT'), ('best', 'JJS'), ('programming', 'NN'), ('languages', 'NNS'), ('is', 'VBZ'), ('Python', 'NNP'), ('it', 'PRP'), ('is', 'VBZ'), ('very', 'RB'), ('simple', 'JJ'), ('for', 'IN'), ('us', 'PRP'), ('to', 'TO'), ('learn', 'VB'), ('and', 'CC'), ('it', 'PRP'), ('is', 'VBZ'), ('most', 'RBS'), ('powerful', 'JJ'), ('one', 'CD')]\n"
     ]
    }
   ],
   "source": [
    "#call the function\n",
    "output = test_tags(string)\n",
    "print(output)"
   ]
  },
  {
   "cell_type": "code",
   "execution_count": null,
   "id": "cb732b40",
   "metadata": {
    "tags": [
     "ex1_end"
    ]
   },
   "outputs": [],
   "source": []
  }
 ],
 "metadata": {
  "celltoolbar": "Tags",
  "kernelspec": {
   "display_name": "Python 3 (ipykernel)",
   "language": "python",
   "name": "python3"
  },
  "language_info": {
   "codemirror_mode": {
    "name": "ipython",
    "version": 3
   },
   "file_extension": ".py",
   "mimetype": "text/x-python",
   "name": "python",
   "nbconvert_exporter": "python",
   "pygments_lexer": "ipython3",
   "version": "3.10.9"
  }
 },
 "nbformat": 4,
 "nbformat_minor": 5
}
