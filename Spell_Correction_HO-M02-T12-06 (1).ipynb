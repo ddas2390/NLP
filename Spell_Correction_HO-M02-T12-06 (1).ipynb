{
 "cells": [
  {
   "cell_type": "markdown",
   "id": "acdda79e",
   "metadata": {},
   "source": [
    "# Spell correction"
   ]
  },
  {
   "cell_type": "code",
   "execution_count": 1,
   "id": "db60d7f8",
   "metadata": {
    "tags": [
     "ex1_start"
    ]
   },
   "outputs": [],
   "source": [
    "#Import the relevant packages\n",
    "from nltk import word_tokenize\n",
    "from autocorrect import Speller"
   ]
  },
  {
   "cell_type": "code",
   "execution_count": 2,
   "id": "44f307e6",
   "metadata": {},
   "outputs": [],
   "source": [
    "spell = Speller(lang='en')"
   ]
  },
  {
   "cell_type": "code",
   "execution_count": 4,
   "id": "c1fa470a",
   "metadata": {},
   "outputs": [],
   "source": [
    "#From the below sentence correct the spellings by creating the function\n",
    "sentence = 'Python is powarful progamming languae'\n",
    "tokenized_words = word_tokenize(sentence)"
   ]
  },
  {
   "cell_type": "code",
   "execution_count": 5,
   "id": "7150ec44",
   "metadata": {},
   "outputs": [],
   "source": [
    "#Create the funtion to correct the spelling\n",
    "def correct_spelling(tokens):\n",
    "    return ' '.join([spell(word) for word in tokens])"
   ]
  },
  {
   "cell_type": "code",
   "execution_count": 6,
   "id": "efef9765",
   "metadata": {},
   "outputs": [
    {
     "name": "stdout",
     "output_type": "stream",
     "text": [
      "Python is powerful programming language\n"
     ]
    }
   ],
   "source": [
    "#Call the funtion\n",
    "corrected_sent = correct_spelling(tokenized_words)\n",
    "print(corrected_sent)"
   ]
  },
  {
   "cell_type": "code",
   "execution_count": null,
   "id": "b7505b15",
   "metadata": {
    "tags": [
     "ex1_end"
    ]
   },
   "outputs": [],
   "source": []
  }
 ],
 "metadata": {
  "celltoolbar": "Tags",
  "kernelspec": {
   "display_name": "Python 3 (ipykernel)",
   "language": "python",
   "name": "python3"
  },
  "language_info": {
   "codemirror_mode": {
    "name": "ipython",
    "version": 3
   },
   "file_extension": ".py",
   "mimetype": "text/x-python",
   "name": "python",
   "nbconvert_exporter": "python",
   "pygments_lexer": "ipython3",
   "version": "3.9.13"
  }
 },
 "nbformat": 4,
 "nbformat_minor": 5
}
