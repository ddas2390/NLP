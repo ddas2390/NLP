{
 "cells": [
  {
   "cell_type": "markdown",
   "id": "acdda79e",
   "metadata": {},
   "source": [
    "# Spell correction"
   ]
  },
  {
   "cell_type": "code",
   "execution_count": 1,
   "id": "db60d7f8",
   "metadata": {
    "tags": [
     "ex1_start"
    ]
   },
   "outputs": [
    {
     "name": "stdout",
     "output_type": "stream",
     "text": [
      "Collecting autocorrect\n",
      "  Downloading autocorrect-2.6.1.tar.gz (622 kB)\n",
      "\u001b[2K     \u001b[90m━━━━━━━━━━━━━━━━━━━━━━━━━━━━━━━━━━━━━━━\u001b[0m \u001b[32m622.8/622.8 kB\u001b[0m \u001b[31m3.3 MB/s\u001b[0m eta \u001b[36m0:00:00\u001b[0m00:01\u001b[0m00:01\u001b[0m\n",
      "\u001b[?25h  Preparing metadata (setup.py) ... \u001b[?25ldone\n",
      "\u001b[?25hBuilding wheels for collected packages: autocorrect\n",
      "  Building wheel for autocorrect (setup.py) ... \u001b[?25ldone\n",
      "\u001b[?25h  Created wheel for autocorrect: filename=autocorrect-2.6.1-py3-none-any.whl size=622363 sha256=3de872edb1a502b0c728e6f70e53a51c0a27c3f4e69923dc777e31d5d52667b5\n",
      "  Stored in directory: /Users/mymac/Library/Caches/pip/wheels/4a/a8/1f/97371a508b82b380dd3faf1bd4ce40843cea1a6c6724f9d7cd\n",
      "Successfully built autocorrect\n",
      "Installing collected packages: autocorrect\n",
      "Successfully installed autocorrect-2.6.1\n"
     ]
    }
   ],
   "source": [
    "#!pip install autocorrect"
   ]
  },
  {
   "cell_type": "code",
   "execution_count": 14,
   "id": "d3f20548",
   "metadata": {},
   "outputs": [
    {
     "name": "stderr",
     "output_type": "stream",
     "text": [
      "[nltk_data] Downloading package punkt to /Users/mymac/nltk_data...\n",
      "[nltk_data]   Package punkt is already up-to-date!\n",
      "[nltk_data] Downloading package averaged_perceptron_tagger to\n",
      "[nltk_data]     /Users/mymac/nltk_data...\n",
      "[nltk_data]   Package averaged_perceptron_tagger is already up-to-\n",
      "[nltk_data]       date!\n",
      "[nltk_data] Downloading package stopwords to /Users/mymac/nltk_data...\n",
      "[nltk_data]   Package stopwords is already up-to-date!\n"
     ]
    }
   ],
   "source": [
    "#Import the relevant packages\n",
    "from nltk import word_tokenize, download\n",
    "download(['punkt', 'averaged_perceptron_tagger', 'stopwords'])\n",
    "\n",
    "from autocorrect import Speller\n",
    "spell = Speller(lang='en')"
   ]
  },
  {
   "cell_type": "code",
   "execution_count": 15,
   "id": "c1fa470a",
   "metadata": {},
   "outputs": [],
   "source": [
    "#From the below sentence correct the spellings by creating the function\n",
    "sentence = 'Natureal Language processing is one of the most poweful techniques help us in sentimant analyssi'"
   ]
  },
  {
   "cell_type": "code",
   "execution_count": 16,
   "id": "4542e15f",
   "metadata": {},
   "outputs": [
    {
     "data": {
      "text/plain": [
       "['Natureal',\n",
       " 'Language',\n",
       " 'processing',\n",
       " 'is',\n",
       " 'one',\n",
       " 'of',\n",
       " 'the',\n",
       " 'most',\n",
       " 'poweful',\n",
       " 'techniques',\n",
       " 'help',\n",
       " 'us',\n",
       " 'in',\n",
       " 'sentimant',\n",
       " 'analyssi']"
      ]
     },
     "execution_count": 16,
     "metadata": {},
     "output_type": "execute_result"
    }
   ],
   "source": [
    "word_tokenize(sentence)"
   ]
  },
  {
   "cell_type": "code",
   "execution_count": 17,
   "id": "7150ec44",
   "metadata": {},
   "outputs": [],
   "source": [
    "#Create the funtion to correct the spelling\n",
    "def correct_spelling(tokens):\n",
    "    tokens = word_tokenize(sentence)\n",
    "    sentence_corrected = ' '.join([spell(word) for word in tokens])\n",
    "    return sentence_corrected"
   ]
  },
  {
   "cell_type": "code",
   "execution_count": 18,
   "id": "efef9765",
   "metadata": {},
   "outputs": [
    {
     "name": "stdout",
     "output_type": "stream",
     "text": [
      "Natural Language processing is one of the most powerful techniques help us in sentiment analysis\n"
     ]
    }
   ],
   "source": [
    "#Call the funtion\n",
    "output = correct_spelling(sentence)\n",
    "print(output)"
   ]
  },
  {
   "cell_type": "code",
   "execution_count": null,
   "id": "b7505b15",
   "metadata": {
    "tags": [
     "ex1_end"
    ]
   },
   "outputs": [],
   "source": []
  }
 ],
 "metadata": {
  "celltoolbar": "Tags",
  "kernelspec": {
   "display_name": "Python 3 (ipykernel)",
   "language": "python",
   "name": "python3"
  },
  "language_info": {
   "codemirror_mode": {
    "name": "ipython",
    "version": 3
   },
   "file_extension": ".py",
   "mimetype": "text/x-python",
   "name": "python",
   "nbconvert_exporter": "python",
   "pygments_lexer": "ipython3",
   "version": "3.10.9"
  }
 },
 "nbformat": 4,
 "nbformat_minor": 5
}
