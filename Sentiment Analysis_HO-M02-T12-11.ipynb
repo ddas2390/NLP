{
 "cells": [
  {
   "cell_type": "markdown",
   "id": "33806c5b",
   "metadata": {},
   "source": [
    "# Sentiment Analysis"
   ]
  },
  {
   "cell_type": "code",
   "execution_count": 1,
   "id": "ae710726",
   "metadata": {
    "tags": [
     "ex1_start"
    ]
   },
   "outputs": [],
   "source": [
    "#Import the relevant packages\n",
    "from textblob import TextBlob\n",
    "myfeelings  = ['The pizza was pathetic', 'The burger was awesome', 'Amazing place']"
   ]
  },
  {
   "cell_type": "code",
   "execution_count": 2,
   "id": "1ff80bbd",
   "metadata": {},
   "outputs": [],
   "source": [
    "#Create the function to normalize the text\n",
    "def sentiment(myfeelings):\n",
    "    output = []\n",
    "    for f in myfeelings:\n",
    "        result = TextBlob(f).sentiment.polarity \n",
    "        output.append(result)\n",
    "    return output\n",
    "    "
   ]
  },
  {
   "cell_type": "code",
   "execution_count": 3,
   "id": "0c13fef0",
   "metadata": {},
   "outputs": [
    {
     "name": "stdout",
     "output_type": "stream",
     "text": [
      "[-1.0, 1.0, 0.6000000000000001]\n"
     ]
    }
   ],
   "source": [
    "#call the function\n",
    "output = sentiment(myfeelings)\n",
    "print(output)"
   ]
  },
  {
   "cell_type": "code",
   "execution_count": null,
   "id": "cb732b40",
   "metadata": {
    "tags": [
     "ex1_end"
    ]
   },
   "outputs": [],
   "source": []
  }
 ],
 "metadata": {
  "celltoolbar": "Tags",
  "kernelspec": {
   "display_name": "Python 3 (ipykernel)",
   "language": "python",
   "name": "python3"
  },
  "language_info": {
   "codemirror_mode": {
    "name": "ipython",
    "version": 3
   },
   "file_extension": ".py",
   "mimetype": "text/x-python",
   "name": "python",
   "nbconvert_exporter": "python",
   "pygments_lexer": "ipython3",
   "version": "3.10.9"
  }
 },
 "nbformat": 4,
 "nbformat_minor": 5
}
