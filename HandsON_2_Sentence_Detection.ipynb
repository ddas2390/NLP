{
 "cells": [
  {
   "cell_type": "markdown",
   "id": "cfc217a9",
   "metadata": {},
   "source": [
    "# Sentence Boundary Detection\n",
    "Exercise File"
   ]
  },
  {
   "cell_type": "code",
   "execution_count": 1,
   "id": "f5866ea3",
   "metadata": {
    "tags": [
     "ex1_start"
    ]
   },
   "outputs": [],
   "source": [
    "#Import the relevant packages to detect the sentences boundaries\n",
    "import nltk\n",
    "from nltk.tokenize import sent_tokenize"
   ]
  },
  {
   "cell_type": "code",
   "execution_count": 2,
   "id": "6ea25b78",
   "metadata": {},
   "outputs": [],
   "source": [
    "#Use the below sentence to get the output. \n",
    "Sentence = 'Natural Language Processing is one of the most powerful concepts. It is the future'"
   ]
  },
  {
   "cell_type": "code",
   "execution_count": 3,
   "id": "20a99e35",
   "metadata": {},
   "outputs": [],
   "source": [
    "#Create the function which will detect the boundaries of the sentences\n",
    "def get_sentences(text):\n",
    "    return sent_tokenize(text)"
   ]
  },
  {
   "cell_type": "code",
   "execution_count": 4,
   "id": "34099572",
   "metadata": {},
   "outputs": [
    {
     "name": "stdout",
     "output_type": "stream",
     "text": [
      "['Natural Language Processing is one of the most powerful concepts.', 'It is the future']\n"
     ]
    }
   ],
   "source": [
    "#Call the function to get the output\n",
    "Sentence = 'Natural Language Processing is one of the most powerful concepts. It is the future'\n",
    "output = get_sentences(Sentence)\n",
    "print(output)"
   ]
  },
  {
   "cell_type": "code",
   "execution_count": null,
   "id": "c8d8b08b",
   "metadata": {
    "tags": [
     "ex1_end"
    ]
   },
   "outputs": [],
   "source": []
  }
 ],
 "metadata": {
  "celltoolbar": "Tags",
  "kernelspec": {
   "display_name": "Python 3 (ipykernel)",
   "language": "python",
   "name": "python3"
  },
  "language_info": {
   "codemirror_mode": {
    "name": "ipython",
    "version": 3
   },
   "file_extension": ".py",
   "mimetype": "text/x-python",
   "name": "python",
   "nbconvert_exporter": "python",
   "pygments_lexer": "ipython3",
   "version": "3.9.13"
  }
 },
 "nbformat": 4,
 "nbformat_minor": 5
}
