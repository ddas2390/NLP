{
 "cells": [
  {
   "cell_type": "markdown",
   "id": "33806c5b",
   "metadata": {},
   "source": [
    "# Normalize the sentence "
   ]
  },
  {
   "cell_type": "code",
   "execution_count": 1,
   "id": "ae710726",
   "metadata": {
    "tags": [
     "ex1_start"
    ]
   },
   "outputs": [],
   "source": [
    "sentence = 'I visited IND and NZ on 23-12-20'"
   ]
  },
  {
   "cell_type": "code",
   "execution_count": 2,
   "id": "1ff80bbd",
   "metadata": {},
   "outputs": [],
   "source": [
    "#Create the function to normalize the text\n",
    "def normalize(text):\n",
    "    return text.replace(\"IND\",\"India\").replace(\"NZ\", \"New Zealand\").replace(\"-20\",\"-2020\")"
   ]
  },
  {
   "cell_type": "code",
   "execution_count": 3,
   "id": "0c13fef0",
   "metadata": {},
   "outputs": [
    {
     "name": "stdout",
     "output_type": "stream",
     "text": [
      "I visited India and New Zealand on 23-12-2020\n"
     ]
    }
   ],
   "source": [
    "#call the function\n",
    "normalize_sentence = normalize(sentence)\n",
    "print(normalize_sentence)"
   ]
  },
  {
   "cell_type": "code",
   "execution_count": null,
   "id": "cb732b40",
   "metadata": {
    "tags": [
     "ex1_end"
    ]
   },
   "outputs": [],
   "source": []
  }
 ],
 "metadata": {
  "celltoolbar": "Tags",
  "kernelspec": {
   "display_name": "Python 3 (ipykernel)",
   "language": "python",
   "name": "python3"
  },
  "language_info": {
   "codemirror_mode": {
    "name": "ipython",
    "version": 3
   },
   "file_extension": ".py",
   "mimetype": "text/x-python",
   "name": "python",
   "nbconvert_exporter": "python",
   "pygments_lexer": "ipython3",
   "version": "3.9.13"
  }
 },
 "nbformat": 4,
 "nbformat_minor": 5
}
