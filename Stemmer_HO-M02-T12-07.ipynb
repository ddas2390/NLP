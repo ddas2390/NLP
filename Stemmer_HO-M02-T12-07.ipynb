{
 "cells": [
  {
   "cell_type": "markdown",
   "id": "1439ba74",
   "metadata": {},
   "source": [
    "# Stem the words"
   ]
  },
  {
   "cell_type": "code",
   "execution_count": 5,
   "id": "9de34e7c",
   "metadata": {
    "tags": [
     "ex1_start"
    ]
   },
   "outputs": [],
   "source": [
    "#Import the relevant packages\n",
    "from nltk import stem"
   ]
  },
  {
   "cell_type": "code",
   "execution_count": 6,
   "id": "6c6b6749",
   "metadata": {},
   "outputs": [],
   "source": [
    "#Create the function to stem the words \n",
    "def get_stems(word):\n",
    "    stemmer = stem.PorterStemmer()\n",
    "    return stemmer.stem(word)"
   ]
  },
  {
   "cell_type": "code",
   "execution_count": 7,
   "id": "03b1e0bd",
   "metadata": {},
   "outputs": [
    {
     "name": "stdout",
     "output_type": "stream",
     "text": [
      "come\n"
     ]
    }
   ],
   "source": [
    "output = get_stems('coming')\n",
    "print(output)"
   ]
  },
  {
   "cell_type": "code",
   "execution_count": null,
   "id": "4e4b9631",
   "metadata": {
    "tags": [
     "ex1_end"
    ]
   },
   "outputs": [],
   "source": []
  }
 ],
 "metadata": {
  "celltoolbar": "Tags",
  "kernelspec": {
   "display_name": "Python 3 (ipykernel)",
   "language": "python",
   "name": "python3"
  },
  "language_info": {
   "codemirror_mode": {
    "name": "ipython",
    "version": 3
   },
   "file_extension": ".py",
   "mimetype": "text/x-python",
   "name": "python",
   "nbconvert_exporter": "python",
   "pygments_lexer": "ipython3",
   "version": "3.9.13"
  }
 },
 "nbformat": 4,
 "nbformat_minor": 5
}
